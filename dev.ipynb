{
 "cells": [
  {
   "cell_type": "code",
   "execution_count": null,
   "metadata": {},
   "outputs": [],
   "source": []
  },
  {
   "cell_type": "code",
   "execution_count": null,
   "metadata": {},
   "outputs": [],
   "source": [
    "BackTesting, RealTrading, TestTrading = \"BackTesting\", \"RealTrading\", \"TestTrading\"\n",
    "\n",
    "\n",
    "class DefaultTrader:\n",
    "    def __init__(self, Market=None, Classifier=None, StopLoss=None, mode=BackTesting):\n",
    "        self.Market = Market\n",
    "        self.Classifier = Classifier\n",
    "        self.StopLoss = StopLoss\n",
    "        self.mode = mode"
   ]
  },
  {
   "cell_type": "code",
   "execution_count": null,
   "metadata": {},
   "outputs": [],
   "source": [
    "MyTrader = DefaultTrader()"
   ]
  },
  {
   "cell_type": "code",
   "execution_count": null,
   "metadata": {},
   "outputs": [],
   "source": [
    "MyTrader.mode == BackTesting"
   ]
  },
  {
   "cell_type": "code",
   "execution_count": null,
   "metadata": {},
   "outputs": [],
   "source": [
    "BackTesting, RealTrading, TestTrading = \"BackTesting\", \"RealTrading\", \"TestTrading\""
   ]
  },
  {
   "cell_type": "code",
   "execution_count": null,
   "metadata": {},
   "outputs": [],
   "source": [
    "import sys\n",
    "import os"
   ]
  },
  {
   "cell_type": "code",
   "execution_count": null,
   "metadata": {},
   "outputs": [],
   "source": [
    "(os.getcwd()).split(sep=\"/anansi\")"
   ]
  },
  {
   "cell_type": "code",
   "execution_count": null,
   "metadata": {},
   "outputs": [],
   "source": []
  },
  {
   "cell_type": "code",
   "execution_count": null,
   "metadata": {},
   "outputs": [],
   "source": [
    "os.get"
   ]
  },
  {
   "cell_type": "code",
   "execution_count": null,
   "metadata": {},
   "outputs": [],
   "source": [
    "class SomeClass:\n",
    "    \n",
    "    attribute_1 = \"Test\"\n",
    "    \n",
    "    @property\n",
    "    def some_property(self):\n",
    "        return self.attribute_1"
   ]
  },
  {
   "cell_type": "code",
   "execution_count": null,
   "metadata": {},
   "outputs": [],
   "source": [
    "MyClass = SomeClass"
   ]
  },
  {
   "cell_type": "code",
   "execution_count": null,
   "metadata": {},
   "outputs": [],
   "source": [
    "MyClass.some_property"
   ]
  },
  {
   "cell_type": "code",
   "execution_count": null,
   "metadata": {},
   "outputs": [],
   "source": [
    "class DataBaseDriver:\n",
    "    engine = GetEngineForEnvironment.dev()\n",
    "\n",
    "\n",
    "class DbHandler:\n",
    "    def dev(self):\n",
    "        return\n",
    "    \n",
    "    \n",
    "    \n",
    "db.bind('sqlite', ':memory:')\n",
    "# or\n",
    "db.bind('sqlite', 'database_file.sqlite', create_db=True)\n",
    "\n",
    "# PostgreSQL\n",
    "db.bind('postgres', user='', password='', host='', database='')"
   ]
  },
  {
   "cell_type": "code",
   "execution_count": 6,
   "metadata": {},
   "outputs": [],
   "source": [
    "import os\n",
    "from pony.orm import *\n",
    "from anansi.tradingbot.mixins import *\n",
    "from anansi.settings import Default, ENVIRONMENT\n",
    "from anansi.share import tools\n",
    "\n",
    "#if ENVIRONMENT == \"DEV\":\n",
    "#_path = \"{}/anansi.db\".format(str(os.getcwd()))\n",
    "#db = Database()\n",
    "#db.bind('sqlite', _path, create_db=True)\n",
    "#sql_debug(True)\n",
    "db = Database()\n",
    "\n",
    "class Customer(db.Entity, CustomerMixin):\n",
    "    user_name = Required(str, unique=True)\n",
    "    traders = Set(\"Trader\")\n",
    "    first_name = Optional(str)\n",
    "    last_name = Optional(str)\n",
    "    email = Optional(str, unique=True)\n",
    "\n",
    "\n",
    "class Position(db.Entity, PositionMixin):\n",
    "    trader = Optional(\"Trader\")\n",
    "    side = Optional(str)\n",
    "    start_at_time = Optional(int)\n",
    "    start_at_price = Optional(float)\n",
    "    stop_reference_price = Optional(float)\n",
    "    amount_quote = Optional(float)\n",
    "    amount_base = Optional(float)\n",
    "\n",
    "\n",
    "class Trader(db.Entity, TraderMixin):\n",
    "    status = Required(str, default=Default.status)\n",
    "    costumer = Required(\"Customer\", columns=[\"name\"])\n",
    "    mode = Required(str, default=Default.mode)\n",
    "    position = Required(\"Position\")\n",
    "    exchange = Required(str)\n",
    "    symbol = Required(str)\n",
    "    classifier_name = Required(str, default=Default.classifier)\n",
    "    classifier_parameters = Optional(Json)\n",
    "    stop_loss_name = Required(str, default=Default.stop_loss)\n",
    "    stop_loss_parameters = Optional(Json)\n",
    "\n",
    "\n",
    "#if __name__ == \"__main__\":\n"
   ]
  },
  {
   "cell_type": "code",
   "execution_count": 7,
   "metadata": {},
   "outputs": [
    {
     "name": "stdout",
     "output_type": "stream",
     "text": [
      "GET NEW CONNECTION\n",
      "RELEASE CONNECTION\n",
      "GET CONNECTION FROM THE LOCAL POOL\n",
      "PRAGMA foreign_keys = false\n",
      "BEGIN IMMEDIATE TRANSACTION\n",
      "CREATE TABLE \"Customer\" (\n",
      "  \"id\" INTEGER PRIMARY KEY AUTOINCREMENT,\n",
      "  \"user_name\" TEXT UNIQUE NOT NULL,\n",
      "  \"first_name\" TEXT NOT NULL,\n",
      "  \"last_name\" TEXT NOT NULL,\n",
      "  \"email\" TEXT UNIQUE\n",
      ")\n",
      "\n",
      "CREATE TABLE \"Position\" (\n",
      "  \"id\" INTEGER PRIMARY KEY AUTOINCREMENT,\n",
      "  \"side\" TEXT NOT NULL,\n",
      "  \"start_at_time\" INTEGER,\n",
      "  \"start_at_price\" REAL,\n",
      "  \"stop_reference_price\" REAL,\n",
      "  \"amount_quote\" REAL,\n",
      "  \"amount_base\" REAL\n",
      ")\n",
      "\n",
      "CREATE TABLE \"Trader\" (\n",
      "  \"id\" INTEGER PRIMARY KEY AUTOINCREMENT,\n",
      "  \"status\" TEXT NOT NULL,\n",
      "  \"name\" INTEGER NOT NULL REFERENCES \"Customer\" (\"id\") ON DELETE CASCADE,\n",
      "  \"mode\" TEXT NOT NULL,\n",
      "  \"position\" INTEGER NOT NULL REFERENCES \"Position\" (\"id\"),\n",
      "  \"exchange\" TEXT NOT NULL,\n",
      "  \"symbol\" TEXT NOT NULL,\n",
      "  \"classifier_name\" TEXT NOT NULL,\n",
      "  \"classifier_parameters\" JSON NOT NULL,\n",
      "  \"stop_loss_name\" TEXT NOT NULL,\n",
      "  \"stop_loss_parameters\" JSON NOT NULL\n",
      ")\n",
      "\n",
      "CREATE INDEX \"idx_trader__name\" ON \"Trader\" (\"name\")\n",
      "\n",
      "CREATE INDEX \"idx_trader__position\" ON \"Trader\" (\"position\")\n",
      "\n",
      "SELECT \"Customer\".\"id\", \"Customer\".\"user_name\", \"Customer\".\"first_name\", \"Customer\".\"last_name\", \"Customer\".\"email\"\n",
      "FROM \"Customer\" \"Customer\"\n",
      "WHERE 0 = 1\n",
      "\n",
      "SELECT \"Position\".\"id\", \"Position\".\"side\", \"Position\".\"start_at_time\", \"Position\".\"start_at_price\", \"Position\".\"stop_reference_price\", \"Position\".\"amount_quote\", \"Position\".\"amount_base\"\n",
      "FROM \"Position\" \"Position\"\n",
      "WHERE 0 = 1\n",
      "\n",
      "SELECT \"Trader\".\"id\", \"Trader\".\"status\", \"Trader\".\"name\", \"Trader\".\"mode\", \"Trader\".\"position\", \"Trader\".\"exchange\", \"Trader\".\"symbol\", \"Trader\".\"classifier_name\", \"Trader\".\"classifier_parameters\", \"Trader\".\"stop_loss_name\", \"Trader\".\"stop_loss_parameters\"\n",
      "FROM \"Trader\" \"Trader\"\n",
      "WHERE 0 = 1\n",
      "\n",
      "COMMIT\n",
      "PRAGMA foreign_keys = true\n",
      "CLOSE CONNECTION\n"
     ]
    }
   ],
   "source": [
    "_path = \"{}/anansi.db\".format(str(os.getcwd()))\n",
    "db.bind('sqlite', _path, create_db=True)\n",
    "sql_debug(True)\n",
    "\n",
    "db.generate_mapping(create_tables=True)"
   ]
  },
  {
   "cell_type": "code",
   "execution_count": null,
   "metadata": {},
   "outputs": [],
   "source": []
  },
  {
   "cell_type": "code",
   "execution_count": null,
   "metadata": {},
   "outputs": [],
   "source": []
  },
  {
   "cell_type": "code",
   "execution_count": null,
   "metadata": {},
   "outputs": [],
   "source": []
  },
  {
   "cell_type": "code",
   "execution_count": null,
   "metadata": {},
   "outputs": [],
   "source": []
  },
  {
   "cell_type": "code",
   "execution_count": null,
   "metadata": {},
   "outputs": [],
   "source": []
  },
  {
   "cell_type": "code",
   "execution_count": null,
   "metadata": {},
   "outputs": [],
   "source": []
  },
  {
   "cell_type": "code",
   "execution_count": null,
   "metadata": {},
   "outputs": [],
   "source": [
    "class Modes:\n",
    "    verbosity = \"debug\"\n",
    "    \n",
    "    \n",
    "    \n",
    "    \n",
    "class BackTesting(Modes):\n",
    "    pass\n",
    "class RealTradding(Modes):\n",
    "    pass\n",
    "class TestTrading:\n",
    "    pass"
   ]
  },
  {
   "cell_type": "code",
   "execution_count": null,
   "metadata": {},
   "outputs": [],
   "source": [
    "mode_a = Modes.BackTesting()"
   ]
  },
  {
   "cell_type": "code",
   "execution_count": null,
   "metadata": {},
   "outputs": [],
   "source": [
    "mode_b = Modes.RealTradding"
   ]
  },
  {
   "cell_type": "code",
   "execution_count": null,
   "metadata": {},
   "outputs": [],
   "source": [
    "type(mode_a)"
   ]
  },
  {
   "cell_type": "code",
   "execution_count": null,
   "metadata": {},
   "outputs": [],
   "source": []
  },
  {
   "cell_type": "code",
   "execution_count": null,
   "metadata": {},
   "outputs": [],
   "source": []
  },
  {
   "cell_type": "code",
   "execution_count": null,
   "metadata": {},
   "outputs": [],
   "source": []
  },
  {
   "cell_type": "code",
   "execution_count": null,
   "metadata": {},
   "outputs": [],
   "source": []
  },
  {
   "cell_type": "code",
   "execution_count": null,
   "metadata": {},
   "outputs": [],
   "source": [
    "Modes.BackTesting"
   ]
  },
  {
   "cell_type": "code",
   "execution_count": null,
   "metadata": {},
   "outputs": [],
   "source": [
    "yield Pica"
   ]
  },
  {
   "cell_type": "markdown",
   "metadata": {},
   "source": [
    "# Testing Pony"
   ]
  },
  {
   "cell_type": "code",
   "execution_count": null,
   "metadata": {},
   "outputs": [],
   "source": [
    "from pony.orm import *"
   ]
  },
  {
   "cell_type": "code",
   "execution_count": null,
   "metadata": {},
   "outputs": [],
   "source": [
    "db = Database()"
   ]
  },
  {
   "cell_type": "code",
   "execution_count": null,
   "metadata": {},
   "outputs": [],
   "source": [
    "class Person(db.Entity):\n",
    "    name = Required(str)\n",
    "    age = Required(int)\n",
    "    cars = Set('Car')\n",
    "\n",
    "class Car(db.Entity):\n",
    "    make = Required(str)\n",
    "    model = Required(str)\n",
    "    owner = Required(Person)"
   ]
  },
  {
   "cell_type": "code",
   "execution_count": null,
   "metadata": {},
   "outputs": [],
   "source": [
    "show(Person)"
   ]
  },
  {
   "cell_type": "code",
   "execution_count": null,
   "metadata": {},
   "outputs": [],
   "source": []
  },
  {
   "cell_type": "code",
   "execution_count": null,
   "metadata": {},
   "outputs": [],
   "source": []
  },
  {
   "cell_type": "code",
   "execution_count": null,
   "metadata": {},
   "outputs": [],
   "source": []
  },
  {
   "cell_type": "code",
   "execution_count": null,
   "metadata": {},
   "outputs": [],
   "source": []
  },
  {
   "cell_type": "code",
   "execution_count": null,
   "metadata": {},
   "outputs": [],
   "source": []
  },
  {
   "cell_type": "code",
   "execution_count": null,
   "metadata": {},
   "outputs": [],
   "source": []
  },
  {
   "cell_type": "code",
   "execution_count": null,
   "metadata": {},
   "outputs": [],
   "source": []
  },
  {
   "cell_type": "code",
   "execution_count": null,
   "metadata": {},
   "outputs": [],
   "source": []
  },
  {
   "cell_type": "code",
   "execution_count": null,
   "metadata": {},
   "outputs": [],
   "source": []
  },
  {
   "cell_type": "code",
   "execution_count": null,
   "metadata": {},
   "outputs": [],
   "source": []
  },
  {
   "cell_type": "code",
   "execution_count": null,
   "metadata": {},
   "outputs": [],
   "source": []
  },
  {
   "cell_type": "code",
   "execution_count": null,
   "metadata": {},
   "outputs": [],
   "source": []
  },
  {
   "cell_type": "code",
   "execution_count": null,
   "metadata": {},
   "outputs": [],
   "source": []
  },
  {
   "cell_type": "code",
   "execution_count": null,
   "metadata": {},
   "outputs": [],
   "source": []
  },
  {
   "cell_type": "code",
   "execution_count": null,
   "metadata": {},
   "outputs": [],
   "source": []
  },
  {
   "cell_type": "code",
   "execution_count": null,
   "metadata": {},
   "outputs": [],
   "source": []
  },
  {
   "cell_type": "code",
   "execution_count": null,
   "metadata": {},
   "outputs": [],
   "source": []
  },
  {
   "cell_type": "code",
   "execution_count": null,
   "metadata": {},
   "outputs": [],
   "source": []
  },
  {
   "cell_type": "code",
   "execution_count": null,
   "metadata": {},
   "outputs": [],
   "source": []
  },
  {
   "cell_type": "code",
   "execution_count": null,
   "metadata": {},
   "outputs": [],
   "source": []
  }
 ],
 "metadata": {
  "kernelspec": {
   "display_name": "anansi",
   "language": "python",
   "name": "anansi"
  },
  "language_info": {
   "codemirror_mode": {
    "name": "ipython",
    "version": 3
   },
   "file_extension": ".py",
   "mimetype": "text/x-python",
   "name": "python",
   "nbconvert_exporter": "python",
   "pygments_lexer": "ipython3",
   "version": "3.8.5"
  }
 },
 "nbformat": 4,
 "nbformat_minor": 4
}
