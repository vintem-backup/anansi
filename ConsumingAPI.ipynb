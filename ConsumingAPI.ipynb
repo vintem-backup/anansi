{
 "cells": [
  {
   "cell_type": "code",
   "execution_count": null,
   "metadata": {},
   "outputs": [],
   "source": [
    "import anansi"
   ]
  },
  {
   "cell_type": "code",
   "execution_count": 1,
   "metadata": {},
   "outputs": [
    {
     "name": "stdout",
     "output_type": "stream",
     "text": [
      "GET CONNECTION FROM THE LOCAL POOL\n",
      "PRAGMA foreign_keys = false\n",
      "BEGIN IMMEDIATE TRANSACTION\n",
      "CREATE TABLE \"Customer\" (\n",
      "  \"id\" INTEGER PRIMARY KEY AUTOINCREMENT,\n",
      "  \"user_name\" TEXT UNIQUE NOT NULL,\n",
      "  \"first_name\" TEXT NOT NULL,\n",
      "  \"last_name\" TEXT NOT NULL,\n",
      "  \"email\" TEXT UNIQUE\n",
      ")\n",
      "\n",
      "CREATE TABLE \"Position\" (\n",
      "  \"id\" INTEGER PRIMARY KEY AUTOINCREMENT,\n",
      "  \"side\" TEXT NOT NULL,\n",
      "  \"start_at_time\" INTEGER,\n",
      "  \"start_at_price\" REAL,\n",
      "  \"stop_reference_price\" REAL,\n",
      "  \"amount_quote\" REAL,\n",
      "  \"amount_base\" REAL\n",
      ")\n",
      "\n",
      "CREATE TABLE \"Trader\" (\n",
      "  \"id\" INTEGER PRIMARY KEY AUTOINCREMENT,\n",
      "  \"status\" TEXT NOT NULL,\n",
      "  \"name\" INTEGER NOT NULL REFERENCES \"Customer\" (\"id\") ON DELETE CASCADE,\n",
      "  \"mode\" TEXT NOT NULL,\n",
      "  \"position\" INTEGER NOT NULL REFERENCES \"Position\" (\"id\"),\n",
      "  \"exchange\" TEXT NOT NULL,\n",
      "  \"symbol\" TEXT NOT NULL,\n",
      "  \"classifier_name\" TEXT NOT NULL,\n",
      "  \"classifier_parameters\" JSON NOT NULL,\n",
      "  \"stop_loss_name\" TEXT NOT NULL,\n",
      "  \"stop_loss_parameters\" JSON NOT NULL\n",
      ")\n",
      "\n",
      "CREATE INDEX \"idx_trader__name\" ON \"Trader\" (\"name\")\n",
      "\n",
      "CREATE INDEX \"idx_trader__position\" ON \"Trader\" (\"position\")\n",
      "\n",
      "SELECT \"Customer\".\"id\", \"Customer\".\"user_name\", \"Customer\".\"first_name\", \"Customer\".\"last_name\", \"Customer\".\"email\"\n",
      "FROM \"Customer\" \"Customer\"\n",
      "WHERE 0 = 1\n",
      "\n",
      "SELECT \"Position\".\"id\", \"Position\".\"side\", \"Position\".\"start_at_time\", \"Position\".\"start_at_price\", \"Position\".\"stop_reference_price\", \"Position\".\"amount_quote\", \"Position\".\"amount_base\"\n",
      "FROM \"Position\" \"Position\"\n",
      "WHERE 0 = 1\n",
      "\n",
      "SELECT \"Trader\".\"id\", \"Trader\".\"status\", \"Trader\".\"name\", \"Trader\".\"mode\", \"Trader\".\"position\", \"Trader\".\"exchange\", \"Trader\".\"symbol\", \"Trader\".\"classifier_name\", \"Trader\".\"classifier_parameters\", \"Trader\".\"stop_loss_name\", \"Trader\".\"stop_loss_parameters\"\n",
      "FROM \"Trader\" \"Trader\"\n",
      "WHERE 0 = 1\n",
      "\n",
      "COMMIT\n",
      "PRAGMA foreign_keys = true\n",
      "CLOSE CONNECTION\n"
     ]
    }
   ],
   "source": [
    "from anansi.tradingbot import models"
   ]
  },
  {
   "cell_type": "code",
   "execution_count": null,
   "metadata": {},
   "outputs": [],
   "source": []
  },
  {
   "cell_type": "code",
   "execution_count": 18,
   "metadata": {},
   "outputs": [],
   "source": [
    "user = models.Customer.get(user_name=\"Marcus\")"
   ]
  },
  {
   "cell_type": "code",
   "execution_count": 19,
   "metadata": {},
   "outputs": [
    {
     "data": {
      "text/plain": [
       "'Marcus'"
      ]
     },
     "execution_count": 19,
     "metadata": {},
     "output_type": "execute_result"
    }
   ],
   "source": [
    "user."
   ]
  },
  {
   "cell_type": "code",
   "execution_count": 22,
   "metadata": {},
   "outputs": [],
   "source": [
    "MyTrader = models.Trader(costumer=user, position=models.Position(), exchange = \"binance\", symbol = \"BTCUSDT\")"
   ]
  },
  {
   "cell_type": "code",
   "execution_count": 23,
   "metadata": {},
   "outputs": [
    {
     "name": "stdout",
     "output_type": "stream",
     "text": [
      "INSERT INTO \"Position\" (\"side\") VALUES (?)\n",
      "['']\n",
      "\n",
      "INSERT INTO \"Position\" (\"side\") VALUES (?)\n",
      "['']\n",
      "\n",
      "INSERT INTO \"Trader\" (\"status\", \"name\", \"mode\", \"position\", \"exchange\", \"symbol\", \"classifier_name\", \"classifier_parameters\", \"stop_loss_name\", \"stop_loss_parameters\") VALUES (?, ?, ?, ?, ?, ?, ?, ?, ?, ?)\n",
      "['NotRunning', 1, 'BackTesting', 2, 'binance', 'BTCUSDT', 'CrossSMA', '{}', 'StopTrailing3T', '{}']\n",
      "\n",
      "COMMIT\n"
     ]
    }
   ],
   "source": [
    "commit()"
   ]
  },
  {
   "cell_type": "code",
   "execution_count": null,
   "metadata": {},
   "outputs": [],
   "source": []
  },
  {
   "cell_type": "code",
   "execution_count": null,
   "metadata": {},
   "outputs": [],
   "source": []
  },
  {
   "cell_type": "code",
   "execution_count": null,
   "metadata": {},
   "outputs": [],
   "source": []
  },
  {
   "cell_type": "code",
   "execution_count": null,
   "metadata": {},
   "outputs": [],
   "source": [
    "    status = Required(str, default=Default.status)\n",
    "    costumer = Required(\"Customer\", columns=[\"name\"])\n",
    "    mode = Required(str, default=Default.mode)\n",
    "    position = Required(\"Position\")\n",
    "    exchange = Required(str)\n",
    "    symbol = Required(str)\n",
    "    classifier_name = Required(str, default=Default.classifier)\n",
    "    classifier_parameters = Optional(Json)\n",
    "    stop_loss_name = Required(str, default=Default.stop_loss)\n",
    "    stop_loss_parameters = Optional(Json)"
   ]
  },
  {
   "cell_type": "code",
   "execution_count": null,
   "metadata": {},
   "outputs": [],
   "source": []
  },
  {
   "cell_type": "code",
   "execution_count": null,
   "metadata": {},
   "outputs": [],
   "source": []
  },
  {
   "cell_type": "code",
   "execution_count": 8,
   "metadata": {},
   "outputs": [
    {
     "data": {
      "text/plain": [
       "'Marcus'"
      ]
     },
     "execution_count": 8,
     "metadata": {},
     "output_type": "execute_result"
    }
   ],
   "source": [
    "MyTrader.user_name"
   ]
  },
  {
   "cell_type": "code",
   "execution_count": 10,
   "metadata": {},
   "outputs": [
    {
     "name": "stdout",
     "output_type": "stream",
     "text": [
      "GET NEW CONNECTION\n",
      "BEGIN IMMEDIATE TRANSACTION\n",
      "INSERT INTO \"Customer\" (\"user_name\", \"first_name\", \"last_name\") VALUES (?, ?, ?)\n",
      "['Marcus', '', '']\n",
      "\n",
      "COMMIT\n"
     ]
    }
   ],
   "source": [
    "from pony.orm import *\n",
    "commit()"
   ]
  },
  {
   "cell_type": "code",
   "execution_count": null,
   "metadata": {},
   "outputs": [],
   "source": []
  },
  {
   "cell_type": "code",
   "execution_count": null,
   "metadata": {},
   "outputs": [],
   "source": []
  },
  {
   "cell_type": "code",
   "execution_count": null,
   "metadata": {},
   "outputs": [],
   "source": []
  },
  {
   "cell_type": "code",
   "execution_count": null,
   "metadata": {},
   "outputs": [],
   "source": []
  },
  {
   "cell_type": "code",
   "execution_count": null,
   "metadata": {},
   "outputs": [],
   "source": []
  },
  {
   "cell_type": "code",
   "execution_count": null,
   "metadata": {},
   "outputs": [],
   "source": []
  },
  {
   "cell_type": "code",
   "execution_count": null,
   "metadata": {},
   "outputs": [],
   "source": [
    "MyTrader = traders.DefaultTrader()"
   ]
  },
  {
   "cell_type": "code",
   "execution_count": null,
   "metadata": {},
   "outputs": [],
   "source": [
    "MyTrader.convert_time_frame(\"1d\")"
   ]
  },
  {
   "cell_type": "code",
   "execution_count": null,
   "metadata": {},
   "outputs": [],
   "source": [
    "MyTrader.market.symbol"
   ]
  },
  {
   "cell_type": "code",
   "execution_count": null,
   "metadata": {},
   "outputs": [],
   "source": [
    "traders.db_handlers.SQLite3(\"teste\", \"teste\").table_exists"
   ]
  },
  {
   "cell_type": "code",
   "execution_count": null,
   "metadata": {},
   "outputs": [],
   "source": [
    "empty_ = dict()"
   ]
  },
  {
   "cell_type": "code",
   "execution_count": null,
   "metadata": {},
   "outputs": [],
   "source": [
    "type(empty_)"
   ]
  },
  {
   "cell_type": "code",
   "execution_count": null,
   "metadata": {},
   "outputs": [],
   "source": [
    "print(\"hello\")"
   ]
  },
  {
   "cell_type": "code",
   "execution_count": null,
   "metadata": {},
   "outputs": [],
   "source": []
  },
  {
   "cell_type": "code",
   "execution_count": null,
   "metadata": {},
   "outputs": [],
   "source": []
  }
 ],
 "metadata": {
  "kernelspec": {
   "display_name": "anansi",
   "language": "python",
   "name": "anansi"
  },
  "language_info": {
   "codemirror_mode": {
    "name": "ipython",
    "version": 3
   },
   "file_extension": ".py",
   "mimetype": "text/x-python",
   "name": "python",
   "nbconvert_exporter": "python",
   "pygments_lexer": "ipython3",
   "version": "3.8.5"
  }
 },
 "nbformat": 4,
 "nbformat_minor": 4
}
